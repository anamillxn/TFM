{
 "cells": [
  {
   "cell_type": "markdown",
   "metadata": {},
   "source": [
    "https://blog.roboflow.com/detect-small-objects/\n",
    "\n",
    "https://blog.roboflow.com/edge-tiling-during-inference/\n",
    "\n",
    "https://blog.roboflow.com/how-to-use-sahi-to-detect-small-objects/\n",
    "\n",
    "https://github.com/obss/sahi/blob/main/demo/slicing.ipynb"
   ]
  },
  {
   "cell_type": "markdown",
   "metadata": {},
   "source": [
    "### Análsis 2: Slicing images\n",
    "\n",
    "La idea es dividir las imágenes en una rejilla para reducir el entrenamiento de las imágenes de entrenamiento y que el bounding box represente mayor área en el porcenaje total de píxeles de la imagen."
   ]
  },
  {
   "cell_type": "code",
   "execution_count": 2,
   "metadata": {},
   "outputs": [
    {
     "data": {
      "text/plain": [
       "'/home/ana/TFM'"
      ]
     },
     "execution_count": 2,
     "metadata": {},
     "output_type": "execute_result"
    }
   ],
   "source": [
    "import os\n",
    "os.getcwd()"
   ]
  },
  {
   "cell_type": "code",
   "execution_count": 1,
   "metadata": {},
   "outputs": [],
   "source": [
    "from sahi.slicing import slice_coco\n",
    "from sahi.utils.file import load_json\n",
    "\n",
    "from PIL import Image, ImageDraw\n",
    "import matplotlib.pyplot as plt"
   ]
  },
  {
   "cell_type": "code",
   "execution_count": 5,
   "metadata": {},
   "outputs": [
    {
     "ename": "FileNotFoundError",
     "evalue": "[Errno 2] No such file or directory: '/home/ana/TFM/datasets/desperfectos_moviles_reduccion_clases.v1i.coco/test/sliced/sliced_coco.json_coco.json'",
     "output_type": "error",
     "traceback": [
      "\u001b[0;31m---------------------------------------------------------------------------\u001b[0m",
      "\u001b[0;31mFileNotFoundError\u001b[0m                         Traceback (most recent call last)",
      "Cell \u001b[0;32mIn[5], line 1\u001b[0m\n\u001b[0;32m----> 1\u001b[0m coco_dict \u001b[38;5;241m=\u001b[39m \u001b[43mload_json\u001b[49m\u001b[43m(\u001b[49m\u001b[38;5;124;43m'\u001b[39;49m\u001b[38;5;124;43m/home/ana/TFM/datasets/desperfectos_moviles_reduccion_clases.v1i.coco/test/sliced/sliced_coco.json_coco.json\u001b[39;49m\u001b[38;5;124;43m'\u001b[39;49m\u001b[43m)\u001b[49m\n\u001b[1;32m      3\u001b[0m \u001b[38;5;66;03m# Configuramos la visualización\u001b[39;00m\n\u001b[1;32m      4\u001b[0m f, axarr \u001b[38;5;241m=\u001b[39m plt\u001b[38;5;241m.\u001b[39msubplots(\u001b[38;5;241m1\u001b[39m, \u001b[38;5;241m1\u001b[39m, figsize\u001b[38;5;241m=\u001b[39m(\u001b[38;5;241m12\u001b[39m, \u001b[38;5;241m12\u001b[39m))\n",
      "File \u001b[0;32m~/.local/lib/python3.10/site-packages/sahi/utils/file.py:69\u001b[0m, in \u001b[0;36mload_json\u001b[0;34m(load_path, encoding)\u001b[0m\n\u001b[1;32m     61\u001b[0m \u001b[38;5;124;03m\"\"\"\u001b[39;00m\n\u001b[1;32m     62\u001b[0m \u001b[38;5;124;03mLoads json formatted data (given as \"data\") from load_path\u001b[39;00m\n\u001b[1;32m     63\u001b[0m \u001b[38;5;124;03mEncoding type can be specified with 'encoding' argument\u001b[39;00m\n\u001b[0;32m   (...)\u001b[0m\n\u001b[1;32m     66\u001b[0m \u001b[38;5;124;03m    load_path: \"dirname/coco.json\"\u001b[39;00m\n\u001b[1;32m     67\u001b[0m \u001b[38;5;124;03m\"\"\"\u001b[39;00m\n\u001b[1;32m     68\u001b[0m \u001b[38;5;66;03m# read from path\u001b[39;00m\n\u001b[0;32m---> 69\u001b[0m \u001b[38;5;28;01mwith\u001b[39;00m \u001b[38;5;28;43mopen\u001b[39;49m\u001b[43m(\u001b[49m\u001b[43mload_path\u001b[49m\u001b[43m,\u001b[49m\u001b[43m \u001b[49m\u001b[43mencoding\u001b[49m\u001b[38;5;241;43m=\u001b[39;49m\u001b[43mencoding\u001b[49m\u001b[43m)\u001b[49m \u001b[38;5;28;01mas\u001b[39;00m json_file:\n\u001b[1;32m     70\u001b[0m     data \u001b[38;5;241m=\u001b[39m json\u001b[38;5;241m.\u001b[39mload(json_file)\n\u001b[1;32m     71\u001b[0m \u001b[38;5;28;01mreturn\u001b[39;00m data\n",
      "\u001b[0;31mFileNotFoundError\u001b[0m: [Errno 2] No such file or directory: '/home/ana/TFM/datasets/desperfectos_moviles_reduccion_clases.v1i.coco/test/sliced/sliced_coco.json_coco.json'"
     ]
    }
   ],
   "source": [
    "coco_dict = load_json('/home/ana/TFM/datasets/desperfectos_moviles_reduccion_clases.v1i.coco/test/sliced/sliced_coco.json_coco.json')\n",
    "\n",
    "# Configuramos la visualización\n",
    "f, axarr = plt.subplots(1, 1, figsize=(12, 12))\n",
    "\n",
    "# Seleccionamos el índice de la imagen que queremos leer\n",
    "img_ind = 124  # Cambia este valor para seleccionar otra imagen\n",
    "image_info = coco_dict[\"images\"][img_ind]\n",
    "image_file_name = image_info[\"file_name\"]\n",
    "image_path = f\"/home/ana/TFM/datasets/desperfectos_moviles_reduccion_clases.v1i.coco/test/sliced/{image_file_name}\"\n",
    "\n",
    "# Cargamos y mostramos la imagen\n",
    "img = Image.open(image_path).convert('RGBA')\n",
    "\n",
    "# Filtramos las anotaciones para esta imagen específica\n",
    "image_id = image_info[\"id\"]\n",
    "annotations = [ann for ann in coco_dict[\"annotations\"] if ann[\"image_id\"] == image_id]\n",
    "\n",
    "# Dibujamos cada anotación/bounding box sobre la imagen\n",
    "for ann in annotations:\n",
    "    xywh = ann[\"bbox\"]\n",
    "    xyxy = [xywh[0], xywh[1], xywh[0]+xywh[2], xywh[1]+xywh[3]]\n",
    "    ImageDraw.Draw(img, 'RGBA').rectangle(xyxy, outline=\"red\", width=5)\n",
    "\n",
    "# Mostramos la imagen con las anotaciones\n",
    "axarr.imshow(img)\n",
    "plt.show()"
   ]
  },
  {
   "cell_type": "code",
   "execution_count": 3,
   "metadata": {},
   "outputs": [
    {
     "name": "stdout",
     "output_type": "stream",
     "text": [
      "indexing coco dataset annotations...\n"
     ]
    },
    {
     "name": "stderr",
     "output_type": "stream",
     "text": [
      "Loading coco annotations: 100%|██████████| 665/665 [00:01<00:00, 626.78it/s]\n",
      "100%|██████████| 665/665 [08:48<00:00,  1.26it/s]\n"
     ]
    }
   ],
   "source": [
    "coco_dict, coco_path = slice_coco(\n",
    "    coco_annotation_file_path='/home/ana/TFM/datasets/desperfectos_moviles_reduccion_clases.v1i.coco/train/_annotations.coco.json',\n",
    "    image_dir=\"/home/ana/TFM/datasets/desperfectos_moviles_reduccion_clases.v1i.coco/train\",\n",
    "    output_coco_annotation_file_name=\"train_128_sliced_coco.json\",\n",
    "    ignore_negative_samples=True,\n",
    "    output_dir='/home/ana/TFM/datasets/data_sliced_casero_128_128',\n",
    "    slice_height=128,\n",
    "    slice_width=128,\n",
    "    overlap_height_ratio=0.2,\n",
    "    overlap_width_ratio=0.2,\n",
    "    min_area_ratio=0.1,\n",
    "    verbose=False\n",
    ")"
   ]
  },
  {
   "cell_type": "code",
   "execution_count": 1,
   "metadata": {},
   "outputs": [
    {
     "ename": "ImportError",
     "evalue": "cannot import name 'JSON2YOLO' from 'ultralytics' (/home/ana/.local/lib/python3.10/site-packages/ultralytics/__init__.py)",
     "output_type": "error",
     "traceback": [
      "\u001b[0;31m---------------------------------------------------------------------------\u001b[0m",
      "\u001b[0;31mImportError\u001b[0m                               Traceback (most recent call last)",
      "Cell \u001b[0;32mIn[1], line 1\u001b[0m\n\u001b[0;32m----> 1\u001b[0m \u001b[38;5;28;01mfrom\u001b[39;00m \u001b[38;5;21;01multralytics\u001b[39;00m \u001b[38;5;28;01mimport\u001b[39;00m JSON2YOLO\n",
      "\u001b[0;31mImportError\u001b[0m: cannot import name 'JSON2YOLO' from 'ultralytics' (/home/ana/.local/lib/python3.10/site-packages/ultralytics/__init__.py)"
     ]
    }
   ],
   "source": [
    "\n"
   ]
  }
 ],
 "metadata": {
  "kernelspec": {
   "display_name": "Python 3",
   "language": "python",
   "name": "python3"
  },
  "language_info": {
   "codemirror_mode": {
    "name": "ipython",
    "version": 3
   },
   "file_extension": ".py",
   "mimetype": "text/x-python",
   "name": "python",
   "nbconvert_exporter": "python",
   "pygments_lexer": "ipython3",
   "version": "3.10.12"
  }
 },
 "nbformat": 4,
 "nbformat_minor": 2
}
