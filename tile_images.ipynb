{
 "cells": [
  {
   "cell_type": "markdown",
   "metadata": {},
   "source": [
    "https://blog.roboflow.com/detect-small-objects/\n",
    "\n",
    "https://blog.roboflow.com/edge-tiling-during-inference/\n",
    "\n",
    "https://blog.roboflow.com/how-to-use-sahi-to-detect-small-objects/\n",
    "\n",
    "https://github.com/obss/sahi/blob/main/demo/slicing.ipynb"
   ]
  },
  {
   "cell_type": "markdown",
   "metadata": {},
   "source": [
    "### Análsis 2: Slicing images\n",
    "\n",
    "La idea es dividir las imágenes en una rejilla para reducir el entrenamiento de las imágenes de entrenamiento y que el bounding box represente mayor área en el porcenaje total de píxeles de la imagen."
   ]
  },
  {
   "cell_type": "code",
   "execution_count": 1,
   "metadata": {},
   "outputs": [
    {
     "data": {
      "text/plain": [
       "'/home/ana/TFM'"
      ]
     },
     "execution_count": 1,
     "metadata": {},
     "output_type": "execute_result"
    }
   ],
   "source": [
    "import os\n",
    "os.getcwd()"
   ]
  },
  {
   "cell_type": "code",
   "execution_count": 2,
   "metadata": {},
   "outputs": [],
   "source": [
    "from sahi.slicing import slice_coco\n",
    "from sahi.utils.file import load_json\n",
    "\n",
    "from PIL import Image, ImageDraw\n",
    "import matplotlib.pyplot as plt"
   ]
  },
  {
   "cell_type": "code",
   "execution_count": 3,
   "metadata": {},
   "outputs": [
    {
     "name": "stdout",
     "output_type": "stream",
     "text": [
      "indexing coco dataset annotations...\n"
     ]
    },
    {
     "name": "stderr",
     "output_type": "stream",
     "text": [
      "Loading coco annotations: 100%|██████████| 666/666 [00:01<00:00, 617.10it/s]\n",
      "100%|██████████| 666/666 [01:49<00:00,  6.08it/s]\n"
     ]
    }
   ],
   "source": [
    "coco_dict, coco_path = slice_coco(\n",
    "    coco_annotation_file_path='/home/ana/TFM/datasets//dataset_precrop_coco/train/annotations.json',\n",
    "    image_dir=\"/home/ana/TFM/datasets/dataset_precrop_coco/train\",\n",
    "    output_coco_annotation_file_name=\"/home/ana/TFM/datasets/dataset_precrop_sahi_coco/crop_cell_128_sliced_coco.json\",\n",
    "    ignore_negative_samples=True,\n",
    "    output_dir='/home/ana/TFM/datasets/dataset_precrop_sahi_coco',\n",
    "    slice_height=128,\n",
    "    slice_width=128,\n",
    "    overlap_height_ratio=0.2,\n",
    "    overlap_width_ratio=0.2,\n",
    "    min_area_ratio=0.1,\n",
    "    verbose=False\n",
    ")"
   ]
  }
 ],
 "metadata": {
  "kernelspec": {
   "display_name": "Python 3 (ipykernel)",
   "language": "python",
   "name": "python3"
  },
  "language_info": {
   "codemirror_mode": {
    "name": "ipython",
    "version": 3
   },
   "file_extension": ".py",
   "mimetype": "text/x-python",
   "name": "python",
   "nbconvert_exporter": "python",
   "pygments_lexer": "ipython3",
   "version": "3.10.12"
  }
 },
 "nbformat": 4,
 "nbformat_minor": 4
}
