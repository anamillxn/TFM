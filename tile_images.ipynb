{
 "cells": [
  {
   "cell_type": "markdown",
   "metadata": {},
   "source": [
    "https://blog.roboflow.com/detect-small-objects/\n",
    "\n",
    "https://blog.roboflow.com/edge-tiling-during-inference/\n",
    "\n",
    "https://blog.roboflow.com/how-to-use-sahi-to-detect-small-objects/\n",
    "\n",
    "https://github.com/obss/sahi/blob/main/demo/slicing.ipynb"
   ]
  },
  {
   "cell_type": "markdown",
   "metadata": {},
   "source": [
    "### Análsis 2: Slicing images\n",
    "\n",
    "La idea es dividir las imágenes en una rejilla para reducir el entrenamiento de las imágenes de entrenamiento y que el bounding box represente mayor área en el porcenaje total de píxeles de la imagen."
   ]
  },
  {
   "cell_type": "code",
   "execution_count": null,
   "metadata": {},
   "outputs": [],
   "source": []
  }
 ],
 "metadata": {
  "kernelspec": {
   "display_name": "Python 3",
   "language": "python",
   "name": "python3"
  },
  "language_info": {
   "name": "python",
   "version": "3.10.12"
  }
 },
 "nbformat": 4,
 "nbformat_minor": 2
}
