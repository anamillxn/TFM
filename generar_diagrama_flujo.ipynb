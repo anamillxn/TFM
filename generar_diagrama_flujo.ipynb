{
 "cells": [
  {
   "cell_type": "code",
   "execution_count": 10,
   "metadata": {},
   "outputs": [],
   "source": [
    "from diagrams import Diagram, Cluster\n",
    "from diagrams.aws.storage import S3\n",
    "from diagrams.aws.compute import Lambda\n",
    "from diagrams.aws.ml import Sagemaker\n",
    "from diagrams.aws.database import Dynamodb\n",
    "from diagrams.aws.integration import SNS\n",
    "\n",
    "with Diagram(\"Arquitectura de Detección de Desperfectos en AWS\", show=True, direction=\"LR\"):\n",
    "    src = S3(\"Almacenamiento de Imágenes\")\n",
    "    lambda1 = Lambda(\"Disparo de Proceso\")\n",
    "    lambda2 = Lambda(\"Preproc de Imágenes\")\n",
    "    sagemaker = Sagemaker(\"Detección de Desperfectos\")\n",
    "\n",
    "    with Cluster(\"Resultados del Análisis\"):\n",
    "        storage = S3(\"Alm. Resultados\")\n",
    "        db = Dynamodb(\"BBDD de Resultados\")\n",
    "\n",
    "    sns = SNS(\"Notificación de Resultados\")\n",
    "\n",
    "    src >> lambda1 >> lambda2 >> sagemaker >> [storage, db] >> sns\n"
   ]
  }
 ],
 "metadata": {
  "kernelspec": {
   "display_name": "Python 3",
   "language": "python",
   "name": "python3"
  },
  "language_info": {
   "codemirror_mode": {
    "name": "ipython",
    "version": 3
   },
   "file_extension": ".py",
   "mimetype": "text/x-python",
   "name": "python",
   "nbconvert_exporter": "python",
   "pygments_lexer": "ipython3",
   "version": "3.10.11"
  }
 },
 "nbformat": 4,
 "nbformat_minor": 2
}
