{
 "cells": [
  {
   "cell_type": "markdown",
   "metadata": {},
   "source": [
    "Se va a desarroyar un código para etiquetar las imágenes usando los modelos pre entrenados de ultralytics para entrenar previamente las etiquetas y que el etiquetado de las mismas sea más leve"
   ]
  },
  {
   "cell_type": "code",
   "execution_count": 5,
   "metadata": {},
   "outputs": [
    {
     "name": "stdout",
     "output_type": "stream",
     "text": [
      "No images or videos found in /home/ana/TFM/datasets/desperfectos_moviles_reduccion_clases.v1i.coco/valid/_annotations.coco.json. Supported formats are:\n",
      "images: {'tiff', 'bmp', 'mpo', 'webp', 'pfm', 'png', 'dng', 'jpeg', 'tif', 'jpg'}\n",
      "videos: {'mov', 'mkv', 'mp4', 'avi', 'webm', 'gif', 'mpeg', 'asf', 'ts', 'wmv', 'm4v', 'mpg'}\n",
      "Error en  /home/ana/TFM/datasets/desperfectos_moviles_reduccion_clases.v1i.coco/valid/_annotations.coco.json\n"
     ]
    }
   ],
   "source": [
    "import os\n",
    "import cv2\n",
    "from accuracy_functions import ULTRALYTICSMetrics\n",
    "from ultralytics_models_utils import model\n",
    "\n",
    "yolo_metrics=ULTRALYTICSMetrics()\n",
    "rtdetr_model=model('rtdetr-l.pt','rtdetr')\n",
    "\n",
    "\n",
    "print_=False\n",
    "\n",
    "images_path_out='/home/ana/TFM/datasets/AUTOLABELING'\n",
    "images_path_in='/home/ana/TFM/datasets/desperfectos_moviles_reduccion_clases.v1i.coco/valid'\n",
    "\n",
    "names_path=\"classes_premodel.txt\"\n",
    "names = rtdetr_model.model.names\n",
    "\n",
    "# Obtenemos un array con las imágenes de la carpeta\n",
    "imagenes = os.listdir(images_path_in)\n",
    "# Recorremos el array de imágenes\n",
    "for imagen in imagenes:\n",
    "    # Juntamos la ruta de la carpeta con el nombre de la imagen\n",
    "    image_path = os.path.join(images_path_in, imagen)\n",
    "    try:\n",
    "        labels_detected, _=rtdetr_model.detected_labels_model(image_path,\"xywhn\")\n",
    "        #codición para filtrar solo las etiquetas de cell phone\n",
    "        labels_detected = [label for label in labels_detected if names[label[0]] == 'cell phone']\n",
    "        image_detected, predicted_boxes=yolo_metrics.get_boxes_image(image_path, labels_detected, names_path,True)\n",
    "        # Guardamos la imagen detectada\n",
    "        cv2.imwrite(os.path.join(images_path_out, imagen), image_detected)\n",
    "\n",
    "        width = image_detected.shape[1]\n",
    "        height = image_detected.shape[0]      \n",
    "        rtdetr_model.save_predicted_boxes_to_txt(predicted_boxes, os.path.join(images_path_out,imagen[:-4] + '.txt'), names_path,height, width)\n",
    "    except Exception as e:\n",
    "        print(e)\n",
    "        print(\"Error en \",image_path)\n"
   ]
  },
  {
   "cell_type": "markdown",
   "metadata": {},
   "source": [
    "#### Adaptar las clases de los archivos txt para reducir las etiquetas de coco a mi modelo personalizado de cell phone"
   ]
  },
  {
   "cell_type": "code",
   "execution_count": 6,
   "metadata": {},
   "outputs": [
    {
     "name": "stdout",
     "output_type": "stream",
     "text": [
      "Todos los archivos han sido actualizados.\n"
     ]
    }
   ],
   "source": [
    "import os\n",
    "\n",
    "# Define la ruta a la carpeta que contiene los archivos .txt\n",
    "folder_path = '/home/ana/TFM/datasets/AUTOLABELING'\n",
    "\n",
    "# Itera sobre todos los archivos en la carpeta especificada\n",
    "for filename in os.listdir(folder_path):\n",
    "    if filename.endswith(\".txt\"):  # Asegúrate de procesar solo archivos .txt\n",
    "        file_path = os.path.join(folder_path, filename)  # Construye la ruta completa al archivo\n",
    "        \n",
    "        # Leer el contenido del archivo\n",
    "        with open(file_path, 'r') as file:\n",
    "            lines = file.readlines()\n",
    "        \n",
    "        # Procesar cada línea para cambiar la clase a 0\n",
    "        new_lines = []\n",
    "        for line in lines:\n",
    "            parts = line.split()  # Divide la línea en partes\n",
    "            parts[0] = '0'  # Cambia la clase al valor 0\n",
    "            new_lines.append(\" \".join(parts) + '\\n')  # Reconstruye la línea y agrega un salto de línea\n",
    "        \n",
    "        # Sobrescribe el archivo con las nuevas líneas\n",
    "        with open(file_path, 'w') as file:\n",
    "            file.writelines(new_lines)\n",
    "\n",
    "print(\"Todos los archivos han sido actualizados.\")\n"
   ]
  },
  {
   "cell_type": "markdown",
   "metadata": {},
   "source": [
    "##### Ahora divido el dataset para entrenar el modelo"
   ]
  },
  {
   "cell_type": "code",
   "execution_count": 7,
   "metadata": {},
   "outputs": [
    {
     "name": "stdout",
     "output_type": "stream",
     "text": [
      "Archivos distribuidos correctamente en train, valid y test.\n"
     ]
    }
   ],
   "source": [
    "import os\n",
    "import shutil\n",
    "import random\n",
    "\n",
    "# Define la ruta a la carpeta que contiene los archivos .jpg y .txt\n",
    "input_folder = '/home/ana/TFM/datasets/AUTOLABELING'\n",
    "\n",
    "# Rutas para las carpetas de salida\n",
    "output_base = '/home/ana/TFM/datasets/autolabel_review'\n",
    "train_folder = os.path.join(output_base, 'train')\n",
    "valid_folder = os.path.join(output_base, 'valid')\n",
    "test_folder = os.path.join(output_base, 'test')\n",
    "\n",
    "# Crea las carpetas necesarias\n",
    "for folder in [train_folder, valid_folder, test_folder]:\n",
    "    os.makedirs(os.path.join(folder, 'images'), exist_ok=True)\n",
    "    os.makedirs(os.path.join(folder, 'labels'), exist_ok=True)\n",
    "\n",
    "# Leer todos los archivos y filtrar por archivos .jpg\n",
    "files = [f for f in os.listdir(input_folder) if f.endswith('.jpg') and os.path.exists(os.path.join(input_folder, f.replace('.jpg', '.txt')))]\n",
    "\n",
    "# Mezclar los archivos aleatoriamente\n",
    "random.shuffle(files)\n",
    "\n",
    "# Calcular los índices para dividir los datos\n",
    "num_files = len(files)\n",
    "train_end = int(num_files * 0.8)\n",
    "valid_end = train_end + int(num_files * 0.15)\n",
    "\n",
    "# Dividir los archivos\n",
    "train_files = files[:train_end]\n",
    "valid_files = files[train_end:valid_end]\n",
    "test_files = files[valid_end:]\n",
    "\n",
    "# Función para copiar archivos a sus nuevas ubicaciones\n",
    "def copy_files(files, folder):\n",
    "    for f in files:\n",
    "        # Copiar imagen\n",
    "        shutil.copy(os.path.join(input_folder, f), os.path.join(folder, 'images', f))\n",
    "        # Copiar archivo de etiqueta correspondiente\n",
    "        txt_file = f.replace('.jpg', '.txt')\n",
    "        shutil.copy(os.path.join(input_folder, txt_file), os.path.join(folder, 'labels', txt_file))\n",
    "\n",
    "# Copiar archivos a las respectivas carpetas\n",
    "copy_files(train_files, train_folder)\n",
    "copy_files(valid_files, valid_folder)\n",
    "copy_files(test_files, test_folder)\n",
    "\n",
    "print(\"Archivos distribuidos correctamente en train, valid y test.\")\n"
   ]
  }
 ],
 "metadata": {
  "kernelspec": {
   "display_name": "Python 3",
   "language": "python",
   "name": "python3"
  },
  "language_info": {
   "codemirror_mode": {
    "name": "ipython",
    "version": 3
   },
   "file_extension": ".py",
   "mimetype": "text/x-python",
   "name": "python",
   "nbconvert_exporter": "python",
   "pygments_lexer": "ipython3",
   "version": "3.10.12"
  }
 },
 "nbformat": 4,
 "nbformat_minor": 2
}
